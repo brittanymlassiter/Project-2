{
 "cells": [
  {
   "cell_type": "markdown",
   "id": "d9bfe122-f772-4c18-810a-7d5490914ee9",
   "metadata": {},
   "source": [
    "# Transform and Load\n",
    "Brittany Lassiter"
   ]
  },
  {
   "cell_type": "markdown",
   "id": "d40b100b-733a-45b2-a074-63ecccc27f95",
   "metadata": {},
   "source": [
    "## Imports"
   ]
  },
  {
   "cell_type": "code",
   "execution_count": 1,
   "id": "e87f66e5-1cd1-4189-aaaa-45ee0fb75cfb",
   "metadata": {},
   "outputs": [],
   "source": [
    "## Standard Imports\n",
    "import numpy as np\n",
    "import pandas as pd\n",
    "import matplotlib.pyplot as plt\n",
    "import seaborn as sns\n",
    "## Importing the OS and JSON Modules\n",
    "import os,json"
   ]
  },
  {
   "cell_type": "code",
   "execution_count": 5,
   "id": "8006ac82-c7cc-421b-802e-359dabafc365",
   "metadata": {},
   "outputs": [
    {
     "data": {
      "text/html": [
       "<div>\n",
       "<style scoped>\n",
       "    .dataframe tbody tr th:only-of-type {\n",
       "        vertical-align: middle;\n",
       "    }\n",
       "\n",
       "    .dataframe tbody tr th {\n",
       "        vertical-align: top;\n",
       "    }\n",
       "\n",
       "    .dataframe thead th {\n",
       "        text-align: right;\n",
       "    }\n",
       "</style>\n",
       "<table border=\"1\" class=\"dataframe\">\n",
       "  <thead>\n",
       "    <tr style=\"text-align: right;\">\n",
       "      <th></th>\n",
       "      <th>imdb_id</th>\n",
       "      <th>adult</th>\n",
       "      <th>backdrop_path</th>\n",
       "      <th>belongs_to_collection</th>\n",
       "      <th>budget</th>\n",
       "      <th>genres</th>\n",
       "      <th>homepage</th>\n",
       "      <th>id</th>\n",
       "      <th>original_language</th>\n",
       "      <th>original_title</th>\n",
       "      <th>...</th>\n",
       "      <th>release_date</th>\n",
       "      <th>revenue</th>\n",
       "      <th>runtime</th>\n",
       "      <th>spoken_languages</th>\n",
       "      <th>status</th>\n",
       "      <th>tagline</th>\n",
       "      <th>title</th>\n",
       "      <th>video</th>\n",
       "      <th>vote_average</th>\n",
       "      <th>vote_count</th>\n",
       "    </tr>\n",
       "  </thead>\n",
       "  <tbody>\n",
       "    <tr>\n",
       "      <th>0</th>\n",
       "      <td>0</td>\n",
       "      <td>NaN</td>\n",
       "      <td>NaN</td>\n",
       "      <td>NaN</td>\n",
       "      <td>NaN</td>\n",
       "      <td>NaN</td>\n",
       "      <td>NaN</td>\n",
       "      <td>NaN</td>\n",
       "      <td>NaN</td>\n",
       "      <td>NaN</td>\n",
       "      <td>...</td>\n",
       "      <td>NaN</td>\n",
       "      <td>NaN</td>\n",
       "      <td>NaN</td>\n",
       "      <td>NaN</td>\n",
       "      <td>NaN</td>\n",
       "      <td>NaN</td>\n",
       "      <td>NaN</td>\n",
       "      <td>NaN</td>\n",
       "      <td>NaN</td>\n",
       "      <td>NaN</td>\n",
       "    </tr>\n",
       "    <tr>\n",
       "      <th>1</th>\n",
       "      <td>tt0332280</td>\n",
       "      <td>0.0</td>\n",
       "      <td>/qom1SZSENdmHFNZBXbtJAU0WTlC.jpg</td>\n",
       "      <td>NaN</td>\n",
       "      <td>29000000.0</td>\n",
       "      <td>[{'id': 10749, 'name': 'Romance'}, {'id': 18, ...</td>\n",
       "      <td>http://www.newline.com/properties/notebookthe....</td>\n",
       "      <td>11036.0</td>\n",
       "      <td>en</td>\n",
       "      <td>The Notebook</td>\n",
       "      <td>...</td>\n",
       "      <td>2004-06-25</td>\n",
       "      <td>115603229.0</td>\n",
       "      <td>123.0</td>\n",
       "      <td>[{'english_name': 'English', 'iso_639_1': 'en'...</td>\n",
       "      <td>Released</td>\n",
       "      <td>Behind every great love is a great story.</td>\n",
       "      <td>The Notebook</td>\n",
       "      <td>0.0</td>\n",
       "      <td>7.88</td>\n",
       "      <td>10689.0</td>\n",
       "    </tr>\n",
       "  </tbody>\n",
       "</table>\n",
       "<p>2 rows × 25 columns</p>\n",
       "</div>"
      ],
      "text/plain": [
       "     imdb_id  adult                     backdrop_path  belongs_to_collection  \\\n",
       "0          0    NaN                               NaN                    NaN   \n",
       "1  tt0332280    0.0  /qom1SZSENdmHFNZBXbtJAU0WTlC.jpg                    NaN   \n",
       "\n",
       "       budget                                             genres  \\\n",
       "0         NaN                                                NaN   \n",
       "1  29000000.0  [{'id': 10749, 'name': 'Romance'}, {'id': 18, ...   \n",
       "\n",
       "                                            homepage       id  \\\n",
       "0                                                NaN      NaN   \n",
       "1  http://www.newline.com/properties/notebookthe....  11036.0   \n",
       "\n",
       "  original_language original_title  ... release_date      revenue runtime  \\\n",
       "0               NaN            NaN  ...          NaN          NaN     NaN   \n",
       "1                en   The Notebook  ...   2004-06-25  115603229.0   123.0   \n",
       "\n",
       "                                    spoken_languages    status  \\\n",
       "0                                                NaN       NaN   \n",
       "1  [{'english_name': 'English', 'iso_639_1': 'en'...  Released   \n",
       "\n",
       "                                     tagline         title  video  \\\n",
       "0                                        NaN           NaN    NaN   \n",
       "1  Behind every great love is a great story.  The Notebook    0.0   \n",
       "\n",
       "  vote_average vote_count  \n",
       "0          NaN        NaN  \n",
       "1         7.88    10689.0  \n",
       "\n",
       "[2 rows x 25 columns]"
      ]
     },
     "execution_count": 5,
     "metadata": {},
     "output_type": "execute_result"
    }
   ],
   "source": [
    "df = pd.read_csv('Data/final_tmdb_data_2010.csv.gz')\n",
    "df.head()"
   ]
  },
  {
   "cell_type": "code",
   "execution_count": 6,
   "id": "705e2ee4-1ddd-43d3-a1cc-90ad7b9c811e",
   "metadata": {},
   "outputs": [
    {
     "name": "stdout",
     "output_type": "stream",
     "text": [
      "<class 'pandas.core.frame.DataFrame'>\n",
      "RangeIndex: 2 entries, 0 to 1\n",
      "Data columns (total 25 columns):\n",
      " #   Column                 Non-Null Count  Dtype  \n",
      "---  ------                 --------------  -----  \n",
      " 0   imdb_id                2 non-null      object \n",
      " 1   adult                  1 non-null      float64\n",
      " 2   backdrop_path          1 non-null      object \n",
      " 3   belongs_to_collection  0 non-null      float64\n",
      " 4   budget                 1 non-null      float64\n",
      " 5   genres                 1 non-null      object \n",
      " 6   homepage               1 non-null      object \n",
      " 7   id                     1 non-null      float64\n",
      " 8   original_language      1 non-null      object \n",
      " 9   original_title         1 non-null      object \n",
      " 10  overview               1 non-null      object \n",
      " 11  popularity             1 non-null      float64\n",
      " 12  poster_path            1 non-null      object \n",
      " 13  production_companies   1 non-null      object \n",
      " 14  production_countries   1 non-null      object \n",
      " 15  release_date           1 non-null      object \n",
      " 16  revenue                1 non-null      float64\n",
      " 17  runtime                1 non-null      float64\n",
      " 18  spoken_languages       1 non-null      object \n",
      " 19  status                 1 non-null      object \n",
      " 20  tagline                1 non-null      object \n",
      " 21  title                  1 non-null      object \n",
      " 22  video                  1 non-null      float64\n",
      " 23  vote_average           1 non-null      float64\n",
      " 24  vote_count             1 non-null      float64\n",
      "dtypes: float64(10), object(15)\n",
      "memory usage: 528.0+ bytes\n"
     ]
    }
   ],
   "source": [
    "df.info()"
   ]
  }
 ],
 "metadata": {
  "kernelspec": {
   "display_name": "Python 3 (ipykernel)",
   "language": "python",
   "name": "python3"
  },
  "language_info": {
   "codemirror_mode": {
    "name": "ipython",
    "version": 3
   },
   "file_extension": ".py",
   "mimetype": "text/x-python",
   "name": "python",
   "nbconvert_exporter": "python",
   "pygments_lexer": "ipython3",
   "version": "3.10.10"
  },
  "widgets": {
   "application/vnd.jupyter.widget-state+json": {
    "state": {},
    "version_major": 2,
    "version_minor": 0
   }
  }
 },
 "nbformat": 4,
 "nbformat_minor": 5
}
