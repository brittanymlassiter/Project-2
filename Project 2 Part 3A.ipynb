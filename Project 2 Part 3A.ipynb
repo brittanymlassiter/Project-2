{
 "cells": [
  {
   "cell_type": "markdown",
   "id": "8360f34f-3b91-482e-a9e5-2d07978cb403",
   "metadata": {},
   "source": [
    "# Extracting from TMDB\n",
    "Brittany Lassiter"
   ]
  },
  {
   "cell_type": "markdown",
   "id": "a320e8a9-9f24-4150-9497-9eb9e0b226bc",
   "metadata": {},
   "source": [
    "## Imports"
   ]
  },
  {
   "cell_type": "code",
   "execution_count": 1,
   "id": "7c0235ba-0e63-492c-b8da-80268c899a48",
   "metadata": {},
   "outputs": [],
   "source": [
    "# Import packages\n",
    "import os, time, json\n",
    "import tmdbsimple as tmdb \n",
    "import pandas as pd\n",
    "from tqdm.notebook import tqdm_notebook\n",
    "\n",
    "# Additional Imports\n",
    "# os - for saving and loading files\n",
    "# json - to work with json files\n",
    "# math - to round up results\n",
    "# time - to add a short pause to not overwhelm the server\n",
    "import os, json, math, time"
   ]
  },
  {
   "cell_type": "code",
   "execution_count": 2,
   "id": "b84e26c7-f1f4-4aff-8b81-a06dcbd61158",
   "metadata": {},
   "outputs": [],
   "source": [
    "# making new folder with os\n",
    "import os\n",
    "os.makedirs('Data/',exist_ok=True)"
   ]
  },
  {
   "cell_type": "code",
   "execution_count": 3,
   "id": "28d8f5f9-69e2-4e8c-98b3-01fda2ceb14e",
   "metadata": {},
   "outputs": [
    {
     "data": {
      "text/plain": [
       "['.ipynb_checkpoints',\n",
       " 'IMDB Movie Dataset Info (2).docx',\n",
       " 'movies-erd.png',\n",
       " 'movies.2.mwb',\n",
       " 'Movies.sql',\n",
       " 'title-akas-us-only.xls',\n",
       " 'title.basics (3).tsv.gz',\n",
       " 'title.ratings (2).tsv.gz',\n",
       " 'title_basics_cleaned.csv.gz',\n",
       " 'title_ratings_cleaned.csv.gz']"
      ]
     },
     "execution_count": 3,
     "metadata": {},
     "output_type": "execute_result"
    }
   ],
   "source": [
    "# Confirm folder was created and files added successfully\n",
    "os.listdir(\"Data/\")"
   ]
  },
  {
   "cell_type": "code",
   "execution_count": 4,
   "id": "4182a114-ede1-42dc-ac3e-12615dece83e",
   "metadata": {},
   "outputs": [
    {
     "name": "stdout",
     "output_type": "stream",
     "text": [
      "Requirement already satisfied: tqdm in c:\\users\\blass\\anaconda3\\envs\\dojo-env\\lib\\site-packages (4.65.0)\n",
      "Requirement already satisfied: colorama in c:\\users\\blass\\anaconda3\\envs\\dojo-env\\lib\\site-packages (from tqdm) (0.4.6)\n",
      "Requirement already satisfied: tmdbsimple in c:\\users\\blass\\anaconda3\\envs\\dojo-env\\lib\\site-packages (2.9.1)\n",
      "Requirement already satisfied: requests in c:\\users\\blass\\anaconda3\\envs\\dojo-env\\lib\\site-packages (from tmdbsimple) (2.29.0)\n",
      "Requirement already satisfied: charset-normalizer<4,>=2 in c:\\users\\blass\\anaconda3\\envs\\dojo-env\\lib\\site-packages (from requests->tmdbsimple) (2.0.4)\n",
      "Requirement already satisfied: idna<4,>=2.5 in c:\\users\\blass\\anaconda3\\envs\\dojo-env\\lib\\site-packages (from requests->tmdbsimple) (3.4)\n",
      "Requirement already satisfied: urllib3<1.27,>=1.21.1 in c:\\users\\blass\\anaconda3\\envs\\dojo-env\\lib\\site-packages (from requests->tmdbsimple) (1.26.15)\n",
      "Requirement already satisfied: certifi>=2017.4.17 in c:\\users\\blass\\anaconda3\\envs\\dojo-env\\lib\\site-packages (from requests->tmdbsimple) (2023.5.7)\n"
     ]
    }
   ],
   "source": [
    "!pip install tqdm\n",
    "!pip install tmdbsimple"
   ]
  },
  {
   "cell_type": "code",
   "execution_count": 5,
   "id": "7d00231f-5dc7-488f-a3e0-8ae4810a5df7",
   "metadata": {},
   "outputs": [
    {
     "data": {
      "text/plain": [
       "dict_keys(['API Key'])"
      ]
     },
     "execution_count": 5,
     "metadata": {},
     "output_type": "execute_result"
    }
   ],
   "source": [
    "import json\n",
    "with open(\"/Users/blass/.secret/tmdb_api.json\", 'r') as f:\n",
    "    login = json.load(f)\n",
    "## Display the keys of the loaded dict\n",
    "login.keys()"
   ]
  },
  {
   "cell_type": "code",
   "execution_count": 6,
   "id": "ec62fc77-d02b-4cdf-b52c-dc0e64d1b34d",
   "metadata": {},
   "outputs": [],
   "source": [
    "import tmdbsimple as tmdb\n",
    "tmdb.API_KEY =  login['API Key']"
   ]
  },
  {
   "cell_type": "markdown",
   "id": "e65468c4-ada6-48ab-9819-5ab627ef8ebf",
   "metadata": {},
   "source": [
    "## Define Search"
   ]
  },
  {
   "cell_type": "code",
   "execution_count": 26,
   "id": "750b3a1f-0e43-4019-bd1f-dd448d7723e0",
   "metadata": {},
   "outputs": [],
   "source": [
    "# set our API call parameters \n",
    "Year = '2001 or 2002'"
   ]
  },
  {
   "cell_type": "markdown",
   "id": "77cf476a-6632-4670-9028-4097d09d282a",
   "metadata": {},
   "source": [
    "## Create JSON File"
   ]
  },
  {
   "cell_type": "code",
   "execution_count": 27,
   "id": "79883c72-a5f2-4ba1-80cf-ca75ed6bd385",
   "metadata": {},
   "outputs": [
    {
     "data": {
      "text/plain": [
       "'Data/title_basics_cleaned.csv.gz'"
      ]
     },
     "execution_count": 27,
     "metadata": {},
     "output_type": "execute_result"
    }
   ],
   "source": [
    "# Specifying JSON_FILE filename (can include a folder)\n",
    "# include the search terms in the filename\n",
    "JSON_FILE = \"Data/title_basics_cleaned.csv.gz\"\n",
    "JSON_FILE"
   ]
  },
  {
   "cell_type": "code",
   "execution_count": 28,
   "id": "253a57a4-970f-486d-bdf8-9db727be6763",
   "metadata": {},
   "outputs": [
    {
     "name": "stdout",
     "output_type": "stream",
     "text": [
      "[i] Data/title_basics_cleaned.csv.gz already exists.\n"
     ]
    }
   ],
   "source": [
    "## Check if JSON_FILE exists\n",
    "file_exists = os.path.isfile(JSON_FILE)\n",
    "## If it does not exist: \n",
    "if file_exists == False:\n",
    "    \n",
    "    ## CREATE ANY NEEDED FOLDERS\n",
    "    # Get the Folder Name only\n",
    "    folder = os.path.dirname(JSON_FILE)\n",
    "    ## If JSON_FILE included a folder:\n",
    "    if len(folder)>0:\n",
    "        # create the folder\n",
    "        os.makedirs(folder,exist_ok=True)\n",
    "        \n",
    "        \n",
    "    ## INFORM USER AND SAVE EMPTY LIST\n",
    "    print(f'[i] {JSON_FILE} not found. Saving empty list to file.')\n",
    "    \n",
    "    \n",
    "    # save an empty list\n",
    "    with open(JSON_FILE,'w') as f:\n",
    "        json.dump([],f)  \n",
    "# If it exists, inform user\n",
    "else:\n",
    "    print(f\"[i] {JSON_FILE} already exists.\")"
   ]
  }
 ],
 "metadata": {
  "kernelspec": {
   "display_name": "Python 3 (ipykernel)",
   "language": "python",
   "name": "python3"
  },
  "language_info": {
   "codemirror_mode": {
    "name": "ipython",
    "version": 3
   },
   "file_extension": ".py",
   "mimetype": "text/x-python",
   "name": "python",
   "nbconvert_exporter": "python",
   "pygments_lexer": "ipython3",
   "version": "3.10.10"
  },
  "widgets": {
   "application/vnd.jupyter.widget-state+json": {
    "state": {},
    "version_major": 2,
    "version_minor": 0
   }
  }
 },
 "nbformat": 4,
 "nbformat_minor": 5
}
