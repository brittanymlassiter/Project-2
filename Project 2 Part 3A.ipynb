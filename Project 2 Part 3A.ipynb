{
 "cells": [
  {
   "cell_type": "markdown",
   "id": "8360f34f-3b91-482e-a9e5-2d07978cb403",
   "metadata": {},
   "source": [
    "# Extracting from TMDB\n",
    "Brittany Lassiter"
   ]
  },
  {
   "cell_type": "markdown",
   "id": "a320e8a9-9f24-4150-9497-9eb9e0b226bc",
   "metadata": {},
   "source": [
    "## Imports"
   ]
  },
  {
   "cell_type": "code",
   "execution_count": 1,
   "id": "02129f2d-50c7-4424-9027-4ed3231fbbb6",
   "metadata": {},
   "outputs": [],
   "source": [
    "# Import packages\n",
    "import pandas as pd\n",
    "import matplotlib.pyplot as plt\n",
    "import seaborn as sns\n",
    "import os, json, time\n",
    "from tqdm.notebook import tqdm_notebook"
   ]
  },
  {
   "cell_type": "code",
   "execution_count": 2,
   "id": "a598ab07-745d-4c00-b849-9a6b796ec840",
   "metadata": {},
   "outputs": [
    {
     "data": {
      "text/plain": [
       "['.ipynb_checkpoints',\n",
       " 'Data',\n",
       " 'final_tmdb_data_2001.csv.gz',\n",
       " 'final_tmdb_data_2010.csv.gz',\n",
       " 'IMDB Movie Dataset Info (2).docx',\n",
       " 'movies-erd.png',\n",
       " 'movies.2.mwb',\n",
       " 'Movies.sql',\n",
       " 'title-akas-us-only.xls',\n",
       " 'title.basics (3).tsv.gz',\n",
       " 'title.ratings (2).tsv.gz',\n",
       " 'title_basics_cleaned.csv.gz',\n",
       " 'title_ratings_cleaned.csv.gz',\n",
       " 'tmdb_api_results_2001.json',\n",
       " 'tmdb_api_results_2010.json',\n",
       " 'tmdb_api_results_YEAR.json',\n",
       " 'tmdb_api_results_[2001, 2002].json',\n",
       " 'Untitled.ipynb']"
      ]
     },
     "execution_count": 2,
     "metadata": {},
     "output_type": "execute_result"
    }
   ],
   "source": [
    "# Create the folder for saving files (if it doesn't exist)\n",
    "FOLDER = \"Data/\"\n",
    "os.makedirs(FOLDER, exist_ok=True)\n",
    "os.listdir(FOLDER)"
   ]
  },
  {
   "cell_type": "code",
   "execution_count": 3,
   "id": "6dfb6d35-1639-4592-ba47-1b0cf34e39c2",
   "metadata": {},
   "outputs": [
    {
     "data": {
      "text/plain": [
       "dict_keys(['API Key'])"
      ]
     },
     "execution_count": 3,
     "metadata": {},
     "output_type": "execute_result"
    }
   ],
   "source": [
    "import json\n",
    "with open(\"/Users/blass/.secret/tmdb_api.json\", 'r') as f:\n",
    "    login = json.load(f)\n",
    "## Display the keys of the loaded dict\n",
    "login.keys()"
   ]
  },
  {
   "cell_type": "code",
   "execution_count": 4,
   "id": "b711c7ea-1fd4-41f3-9d66-cd286770cb5a",
   "metadata": {},
   "outputs": [],
   "source": [
    "import tmdbsimple as tmdb\n",
    "tmdb.API_KEY =  login['API Key']"
   ]
  },
  {
   "cell_type": "code",
   "execution_count": 5,
   "id": "85f0d1c4-7da5-4425-b0f7-98964d7015a0",
   "metadata": {},
   "outputs": [],
   "source": [
    "# Importing tmdbsimple and setting the API_KEY\n",
    "import tmdbsimple as tmdb\n",
    "tmdb.API_KEY =  login['API Key']"
   ]
  },
  {
   "cell_type": "code",
   "execution_count": 6,
   "id": "0625d211-4ccd-41f4-86c1-c3964c42c6f1",
   "metadata": {},
   "outputs": [
    {
     "data": {
      "text/plain": [
       "['.ipynb_checkpoints',\n",
       " 'Data',\n",
       " 'IMDB Movie Dataset Info (2).docx',\n",
       " 'Movies.sql',\n",
       " 'Untitled.ipynb',\n",
       " 'final_tmdb_data_2001.csv.gz',\n",
       " 'final_tmdb_data_2010.csv.gz',\n",
       " 'movies-erd.png',\n",
       " 'movies.2.mwb',\n",
       " 'title-akas-us-only.xls',\n",
       " 'title.basics (3).tsv.gz',\n",
       " 'title.ratings (2).tsv.gz',\n",
       " 'title_basics_cleaned.csv.gz',\n",
       " 'title_ratings_cleaned.csv.gz',\n",
       " 'tmdb_api_results_2001.json',\n",
       " 'tmdb_api_results_2010.json',\n",
       " 'tmdb_api_results_YEAR.json',\n",
       " 'tmdb_api_results_[2001, 2002].json']"
      ]
     },
     "execution_count": 6,
     "metadata": {},
     "output_type": "execute_result"
    }
   ],
   "source": [
    "# Create the folder for saving files (if it doesn't exist)\n",
    "FOLDER = \"Data/\"\n",
    "os.makedirs(FOLDER, exist_ok=True)\n",
    "\n",
    "# Show the list of files included in the folder\n",
    "sorted(os.listdir(FOLDER))"
   ]
  },
  {
   "cell_type": "markdown",
   "id": "39661efa-668f-4b2c-8c28-1f8a9379bb1c",
   "metadata": {},
   "source": [
    "## Define Function"
   ]
  },
  {
   "cell_type": "code",
   "execution_count": 7,
   "id": "b01c01d8-8c0b-4e74-9b3f-23616e2023d1",
   "metadata": {},
   "outputs": [],
   "source": [
    "def get_movie_with_rating(movie_id):\n",
    "    # Get the movie object for the current id\n",
    "    movie = tmdb.Movies(movie_id)\n",
    "    \n",
    "    # save the .info .releases dictionaries\n",
    "    movie_info = movie.info()\n",
    "    releases = movie.releases()\n",
    "    \n",
    "    # Loop through countries in releases\n",
    "    for c in releases['countries']:\n",
    "        # if the country abbreviation==US\n",
    "        if c['iso_3166_1' ] =='US':\n",
    "            ## save a \"certification\" key in the info dict with the certification\n",
    "            movie_info['certification'] = c['certification']\n",
    "    return movie_info\n",
    "\n",
    "\n",
    "def write_json(new_data, filename): \n",
    "    \"\"\"Appends a list of records (new_data) to a json file (filename). \n",
    "    Adapted from: https://www.geeksforgeeks.org/append-to-json-file-using-python/\"\"\"  \n",
    "    \n",
    "    with open(filename,'r+') as file:\n",
    "        # First we load existing data into a dict.\n",
    "        file_data = json.load(file)\n",
    "        ## Choose extend or append\n",
    "        if (type(new_data) == list) & (type(file_data) == list):\n",
    "            file_data.extend(new_data)\n",
    "        else:\n",
    "             file_data.append(new_data)\n",
    "        # Sets file's current position at offset.\n",
    "        file.seek(0)\n",
    "        # convert back to json.\n",
    "        json.dump(file_data, file)"
   ]
  },
  {
   "cell_type": "markdown",
   "id": "883b0cb4-2267-4635-b976-a42bd708ab3f",
   "metadata": {},
   "source": [
    "## Loading the Data"
   ]
  },
  {
   "cell_type": "code",
   "execution_count": 8,
   "id": "3ad9346a-eb32-42fa-b208-05f158754e69",
   "metadata": {},
   "outputs": [],
   "source": [
    "# Set the years to filter for\n",
    "YEARS_TO_GET = [2001,2002]\n",
    "# Create an empty list for saving errors\n",
    "errors = []"
   ]
  },
  {
   "cell_type": "code",
   "execution_count": 9,
   "id": "49cd7032-ed55-4a8e-964c-ebc28787d75a",
   "metadata": {},
   "outputs": [
    {
     "data": {
      "text/html": [
       "<div>\n",
       "<style scoped>\n",
       "    .dataframe tbody tr th:only-of-type {\n",
       "        vertical-align: middle;\n",
       "    }\n",
       "\n",
       "    .dataframe tbody tr th {\n",
       "        vertical-align: top;\n",
       "    }\n",
       "\n",
       "    .dataframe thead th {\n",
       "        text-align: right;\n",
       "    }\n",
       "</style>\n",
       "<table border=\"1\" class=\"dataframe\">\n",
       "  <thead>\n",
       "    <tr style=\"text-align: right;\">\n",
       "      <th></th>\n",
       "      <th>tconst</th>\n",
       "      <th>titleType</th>\n",
       "      <th>primaryTitle</th>\n",
       "      <th>originalTitle</th>\n",
       "      <th>isAdult</th>\n",
       "      <th>startYear</th>\n",
       "      <th>endYear</th>\n",
       "      <th>runtimeMinutes</th>\n",
       "      <th>genres</th>\n",
       "    </tr>\n",
       "  </thead>\n",
       "  <tbody>\n",
       "    <tr>\n",
       "      <th>0</th>\n",
       "      <td>tt0035423</td>\n",
       "      <td>movie</td>\n",
       "      <td>Kate &amp; Leopold</td>\n",
       "      <td>Kate &amp; Leopold</td>\n",
       "      <td>0</td>\n",
       "      <td>2001.0</td>\n",
       "      <td>NaN</td>\n",
       "      <td>118</td>\n",
       "      <td>Comedy,Fantasy,Romance</td>\n",
       "    </tr>\n",
       "    <tr>\n",
       "      <th>1</th>\n",
       "      <td>tt0062336</td>\n",
       "      <td>movie</td>\n",
       "      <td>The Tango of the Widower and Its Distorting Mi...</td>\n",
       "      <td>El tango del viudo y su espejo deformante</td>\n",
       "      <td>0</td>\n",
       "      <td>2020.0</td>\n",
       "      <td>NaN</td>\n",
       "      <td>70</td>\n",
       "      <td>Drama</td>\n",
       "    </tr>\n",
       "    <tr>\n",
       "      <th>2</th>\n",
       "      <td>tt0069049</td>\n",
       "      <td>movie</td>\n",
       "      <td>The Other Side of the Wind</td>\n",
       "      <td>The Other Side of the Wind</td>\n",
       "      <td>0</td>\n",
       "      <td>2018.0</td>\n",
       "      <td>NaN</td>\n",
       "      <td>122</td>\n",
       "      <td>Drama</td>\n",
       "    </tr>\n",
       "    <tr>\n",
       "      <th>3</th>\n",
       "      <td>tt0088751</td>\n",
       "      <td>movie</td>\n",
       "      <td>The Naked Monster</td>\n",
       "      <td>The Naked Monster</td>\n",
       "      <td>0</td>\n",
       "      <td>2005.0</td>\n",
       "      <td>NaN</td>\n",
       "      <td>100</td>\n",
       "      <td>Comedy,Horror,Sci-Fi</td>\n",
       "    </tr>\n",
       "    <tr>\n",
       "      <th>4</th>\n",
       "      <td>tt0096056</td>\n",
       "      <td>movie</td>\n",
       "      <td>Crime and Punishment</td>\n",
       "      <td>Crime and Punishment</td>\n",
       "      <td>0</td>\n",
       "      <td>2002.0</td>\n",
       "      <td>NaN</td>\n",
       "      <td>126</td>\n",
       "      <td>Drama</td>\n",
       "    </tr>\n",
       "    <tr>\n",
       "      <th>...</th>\n",
       "      <td>...</td>\n",
       "      <td>...</td>\n",
       "      <td>...</td>\n",
       "      <td>...</td>\n",
       "      <td>...</td>\n",
       "      <td>...</td>\n",
       "      <td>...</td>\n",
       "      <td>...</td>\n",
       "      <td>...</td>\n",
       "    </tr>\n",
       "    <tr>\n",
       "      <th>86974</th>\n",
       "      <td>tt9914942</td>\n",
       "      <td>movie</td>\n",
       "      <td>Life Without Sara Amat</td>\n",
       "      <td>La vida sense la Sara Amat</td>\n",
       "      <td>0</td>\n",
       "      <td>2019.0</td>\n",
       "      <td>NaN</td>\n",
       "      <td>74</td>\n",
       "      <td>Drama</td>\n",
       "    </tr>\n",
       "    <tr>\n",
       "      <th>86975</th>\n",
       "      <td>tt9915872</td>\n",
       "      <td>movie</td>\n",
       "      <td>The Last White Witch</td>\n",
       "      <td>My Girlfriend is a Wizard</td>\n",
       "      <td>0</td>\n",
       "      <td>2019.0</td>\n",
       "      <td>NaN</td>\n",
       "      <td>97</td>\n",
       "      <td>Comedy,Drama,Fantasy</td>\n",
       "    </tr>\n",
       "    <tr>\n",
       "      <th>86976</th>\n",
       "      <td>tt9916170</td>\n",
       "      <td>movie</td>\n",
       "      <td>The Rehearsal</td>\n",
       "      <td>O Ensaio</td>\n",
       "      <td>0</td>\n",
       "      <td>2019.0</td>\n",
       "      <td>NaN</td>\n",
       "      <td>51</td>\n",
       "      <td>Drama</td>\n",
       "    </tr>\n",
       "    <tr>\n",
       "      <th>86977</th>\n",
       "      <td>tt9916190</td>\n",
       "      <td>movie</td>\n",
       "      <td>Safeguard</td>\n",
       "      <td>Safeguard</td>\n",
       "      <td>0</td>\n",
       "      <td>2020.0</td>\n",
       "      <td>NaN</td>\n",
       "      <td>95</td>\n",
       "      <td>Action,Adventure,Thriller</td>\n",
       "    </tr>\n",
       "    <tr>\n",
       "      <th>86978</th>\n",
       "      <td>tt9916362</td>\n",
       "      <td>movie</td>\n",
       "      <td>Coven</td>\n",
       "      <td>Akelarre</td>\n",
       "      <td>0</td>\n",
       "      <td>2020.0</td>\n",
       "      <td>NaN</td>\n",
       "      <td>92</td>\n",
       "      <td>Drama,History</td>\n",
       "    </tr>\n",
       "  </tbody>\n",
       "</table>\n",
       "<p>86979 rows × 9 columns</p>\n",
       "</div>"
      ],
      "text/plain": [
       "          tconst titleType                                       primaryTitle  \\\n",
       "0      tt0035423     movie                                     Kate & Leopold   \n",
       "1      tt0062336     movie  The Tango of the Widower and Its Distorting Mi...   \n",
       "2      tt0069049     movie                         The Other Side of the Wind   \n",
       "3      tt0088751     movie                                  The Naked Monster   \n",
       "4      tt0096056     movie                               Crime and Punishment   \n",
       "...          ...       ...                                                ...   \n",
       "86974  tt9914942     movie                             Life Without Sara Amat   \n",
       "86975  tt9915872     movie                               The Last White Witch   \n",
       "86976  tt9916170     movie                                      The Rehearsal   \n",
       "86977  tt9916190     movie                                          Safeguard   \n",
       "86978  tt9916362     movie                                              Coven   \n",
       "\n",
       "                                   originalTitle  isAdult  startYear  endYear  \\\n",
       "0                                 Kate & Leopold        0     2001.0      NaN   \n",
       "1      El tango del viudo y su espejo deformante        0     2020.0      NaN   \n",
       "2                     The Other Side of the Wind        0     2018.0      NaN   \n",
       "3                              The Naked Monster        0     2005.0      NaN   \n",
       "4                           Crime and Punishment        0     2002.0      NaN   \n",
       "...                                          ...      ...        ...      ...   \n",
       "86974                 La vida sense la Sara Amat        0     2019.0      NaN   \n",
       "86975                  My Girlfriend is a Wizard        0     2019.0      NaN   \n",
       "86976                                   O Ensaio        0     2019.0      NaN   \n",
       "86977                                  Safeguard        0     2020.0      NaN   \n",
       "86978                                   Akelarre        0     2020.0      NaN   \n",
       "\n",
       "       runtimeMinutes                     genres  \n",
       "0                 118     Comedy,Fantasy,Romance  \n",
       "1                  70                      Drama  \n",
       "2                 122                      Drama  \n",
       "3                 100       Comedy,Horror,Sci-Fi  \n",
       "4                 126                      Drama  \n",
       "...               ...                        ...  \n",
       "86974              74                      Drama  \n",
       "86975              97       Comedy,Drama,Fantasy  \n",
       "86976              51                      Drama  \n",
       "86977              95  Action,Adventure,Thriller  \n",
       "86978              92              Drama,History  \n",
       "\n",
       "[86979 rows x 9 columns]"
      ]
     },
     "execution_count": 9,
     "metadata": {},
     "output_type": "execute_result"
    }
   ],
   "source": [
    "import pandas as pd\n",
    "basics = pd.read_csv('Data/title_basics_cleaned.csv.gz')\n",
    "basics"
   ]
  },
  {
   "cell_type": "code",
   "execution_count": 11,
   "id": "465c38da-ed02-47e7-8ef7-41fdf419da77",
   "metadata": {},
   "outputs": [
    {
     "data": {
      "application/vnd.jupyter.widget-view+json": {
       "model_id": "85d82ea27f7d4b3ebadb3429e213ed75",
       "version_major": 2,
       "version_minor": 0
      },
      "text/plain": [
       "YEARS:   0%|          | 0/2 [00:00<?, ?it/s]"
      ]
     },
     "metadata": {},
     "output_type": "display_data"
    },
    {
     "name": "stdout",
     "output_type": "stream",
     "text": [
      "The file Data/tmdb_api_results_2001.json already exists.\n"
     ]
    },
    {
     "data": {
      "application/vnd.jupyter.widget-view+json": {
       "model_id": "fe0513f4e4f64a18a249270866c1d980",
       "version_major": 2,
       "version_minor": 0
      },
      "text/plain": [
       "Movies from 2001:   0%|          | 0/219 [00:00<?, ?it/s]"
      ]
     },
     "metadata": {},
     "output_type": "display_data"
    },
    {
     "name": "stdout",
     "output_type": "stream",
     "text": [
      "Creating Data/tmdb_api_results_2002.json for API results for year=2002.\n"
     ]
    },
    {
     "data": {
      "application/vnd.jupyter.widget-view+json": {
       "model_id": "651b81281bdf46fd9a77812f6064a71a",
       "version_major": 2,
       "version_minor": 0
      },
      "text/plain": [
       "Movies from 2002:   0%|          | 0/1572 [00:00<?, ?it/s]"
      ]
     },
     "metadata": {},
     "output_type": "display_data"
    }
   ],
   "source": [
    "# Start of Outer Loops\n",
    "for YEAR in tqdm_notebook(YEARS_TO_GET,desc='YEARS',position=0):\n",
    "    #Defining the JSON file to Store results for year\n",
    "    JSON_FILE = f'{FOLDER}tmdb_api_results_{YEAR}.json'\n",
    "    # Check if the JSON file exists\n",
    "    file_exists = os.path.isfile(JSON_FILE)\n",
    "\n",
    "    # If it does not exist: create it\n",
    "    if file_exists == False:\n",
    "        print(f\"Creating {JSON_FILE} for API results for year={YEAR}.\")\n",
    "        \n",
    "    # save an empty dict with just \"imdb_id\" to the new json file.\n",
    "        with open(JSON_FILE,'w') as f:\n",
    "                json.dump([{'imdb_id':0}],f)\n",
    "    \n",
    "    # If it exists, print a message\n",
    "    else:\n",
    "        print(f'The file {JSON_FILE} already exists.')\n",
    "\n",
    "    # Filtering for movies from selected startYear\n",
    "    df = basics.loc[ basics['startYear']==YEAR].copy()\n",
    "    # saving movie ids to list\n",
    "    movie_ids = df['tconst']\n",
    "    movie_ids.head()\n",
    "\n",
    "    # Load existing data from json into a dataframe called \"previous_df\"\n",
    "    previous_df = pd.read_json(JSON_FILE)\n",
    "    previous_df\n",
    "\n",
    "    # filter out any ids that are already in the JSON_FILE\n",
    "    movie_ids_to_get = movie_ids[~movie_ids.isin(previous_df['imdb_id'])]\n",
    "    movie_ids_to_get\n",
    "\n",
    "    # Loop through movie_ids_to_get with a tqdm progress bar\n",
    "    for movie_id in tqdm_notebook(movie_ids_to_get, f\"Movies from {YEAR}\"):\n",
    "    \n",
    "        # Attempt to retrieve then data for the movie id\n",
    "        try:\n",
    "            temp = get_movie_with_rating(movie_id)  #This uses your pre-ma    de function\n",
    "            # Append/extend results to existing file using a pre-made function\n",
    "            write_json(temp,JSON_FILE)\n",
    "            # Short 20 ms sleep to prevent overwhelming server\n",
    "            time.sleep(0.02)\n",
    "    \n",
    "        # If it fails,  make a dict with just the id and None for certification.\n",
    "        except Exception as e:\n",
    "            errors.append([movie_id, e])\n",
    "\n",
    "    # Save the final results to a csv.gz file\n",
    "    final_year_df = pd.read_json(JSON_FILE)\n",
    "    \n",
    "    csv_fname = f\"{FOLDER}final_tmdb_data_{YEAR}.csv.gz\"\n",
    "    final_year_df.to_csv(csv_fname, compression=\"gzip\", index=False)"
   ]
  },
  {
   "cell_type": "markdown",
   "id": "2d8e1882-2401-43c2-be84-391b8daaf487",
   "metadata": {},
   "source": [
    "## Inner and Outer Loops 2001- 2002"
   ]
  },
  {
   "cell_type": "markdown",
   "id": "84d365be-895e-467a-87e6-afd435f8ac50",
   "metadata": {},
   "source": [
    "# EDA PROCESS"
   ]
  },
  {
   "cell_type": "code",
   "execution_count": 12,
   "id": "d3a22675-212e-4027-bef7-bbdb5b554bbf",
   "metadata": {},
   "outputs": [
    {
     "name": "stdout",
     "output_type": "stream",
     "text": [
      "<class 'pandas.core.frame.DataFrame'>\n",
      "RangeIndex: 1295 entries, 0 to 1294\n",
      "Data columns (total 26 columns):\n",
      " #   Column                 Non-Null Count  Dtype  \n",
      "---  ------                 --------------  -----  \n",
      " 0   imdb_id                1295 non-null   object \n",
      " 1   adult                  1294 non-null   float64\n",
      " 2   backdrop_path          775 non-null    object \n",
      " 3   belongs_to_collection  120 non-null    object \n",
      " 4   budget                 1294 non-null   float64\n",
      " 5   genres                 1294 non-null   object \n",
      " 6   homepage               106 non-null    object \n",
      " 7   id                     1294 non-null   float64\n",
      " 8   original_language      1294 non-null   object \n",
      " 9   original_title         1294 non-null   object \n",
      " 10  overview               1262 non-null   object \n",
      " 11  popularity             1294 non-null   float64\n",
      " 12  poster_path            1183 non-null   object \n",
      " 13  production_companies   1294 non-null   object \n",
      " 14  production_countries   1294 non-null   object \n",
      " 15  release_date           1283 non-null   object \n",
      " 16  revenue                1294 non-null   float64\n",
      " 17  runtime                1294 non-null   float64\n",
      " 18  spoken_languages       1294 non-null   object \n",
      " 19  status                 1294 non-null   object \n",
      " 20  tagline                587 non-null    object \n",
      " 21  title                  1294 non-null   object \n",
      " 22  video                  1294 non-null   float64\n",
      " 23  vote_average           1294 non-null   float64\n",
      " 24  vote_count             1294 non-null   float64\n",
      " 25  certification          445 non-null    object \n",
      "dtypes: float64(9), object(17)\n",
      "memory usage: 263.2+ KB\n"
     ]
    },
    {
     "data": {
      "text/html": [
       "<div>\n",
       "<style scoped>\n",
       "    .dataframe tbody tr th:only-of-type {\n",
       "        vertical-align: middle;\n",
       "    }\n",
       "\n",
       "    .dataframe tbody tr th {\n",
       "        vertical-align: top;\n",
       "    }\n",
       "\n",
       "    .dataframe thead th {\n",
       "        text-align: right;\n",
       "    }\n",
       "</style>\n",
       "<table border=\"1\" class=\"dataframe\">\n",
       "  <thead>\n",
       "    <tr style=\"text-align: right;\">\n",
       "      <th></th>\n",
       "      <th>imdb_id</th>\n",
       "      <th>adult</th>\n",
       "      <th>backdrop_path</th>\n",
       "      <th>belongs_to_collection</th>\n",
       "      <th>budget</th>\n",
       "      <th>genres</th>\n",
       "      <th>homepage</th>\n",
       "      <th>id</th>\n",
       "      <th>original_language</th>\n",
       "      <th>original_title</th>\n",
       "      <th>...</th>\n",
       "      <th>revenue</th>\n",
       "      <th>runtime</th>\n",
       "      <th>spoken_languages</th>\n",
       "      <th>status</th>\n",
       "      <th>tagline</th>\n",
       "      <th>title</th>\n",
       "      <th>video</th>\n",
       "      <th>vote_average</th>\n",
       "      <th>vote_count</th>\n",
       "      <th>certification</th>\n",
       "    </tr>\n",
       "  </thead>\n",
       "  <tbody>\n",
       "    <tr>\n",
       "      <th>0</th>\n",
       "      <td>0</td>\n",
       "      <td>NaN</td>\n",
       "      <td>NaN</td>\n",
       "      <td>NaN</td>\n",
       "      <td>NaN</td>\n",
       "      <td>NaN</td>\n",
       "      <td>NaN</td>\n",
       "      <td>NaN</td>\n",
       "      <td>NaN</td>\n",
       "      <td>NaN</td>\n",
       "      <td>...</td>\n",
       "      <td>NaN</td>\n",
       "      <td>NaN</td>\n",
       "      <td>NaN</td>\n",
       "      <td>NaN</td>\n",
       "      <td>NaN</td>\n",
       "      <td>NaN</td>\n",
       "      <td>NaN</td>\n",
       "      <td>NaN</td>\n",
       "      <td>NaN</td>\n",
       "      <td>NaN</td>\n",
       "    </tr>\n",
       "    <tr>\n",
       "      <th>1</th>\n",
       "      <td>tt0096056</td>\n",
       "      <td>0.0</td>\n",
       "      <td>/95U3MUDXu4xSCmVLtWgargRipDi.jpg</td>\n",
       "      <td>NaN</td>\n",
       "      <td>0.0</td>\n",
       "      <td>[{'id': 18, 'name': 'Drama'}]</td>\n",
       "      <td>NaN</td>\n",
       "      <td>109809.0</td>\n",
       "      <td>en</td>\n",
       "      <td>Crime and Punishment</td>\n",
       "      <td>...</td>\n",
       "      <td>0.0</td>\n",
       "      <td>126.0</td>\n",
       "      <td>[{'english_name': 'English', 'iso_639_1': 'en'...</td>\n",
       "      <td>Released</td>\n",
       "      <td>NaN</td>\n",
       "      <td>Crime and Punishment</td>\n",
       "      <td>0.0</td>\n",
       "      <td>5.300</td>\n",
       "      <td>12.0</td>\n",
       "      <td>NaN</td>\n",
       "    </tr>\n",
       "    <tr>\n",
       "      <th>2</th>\n",
       "      <td>tt0118926</td>\n",
       "      <td>0.0</td>\n",
       "      <td>/qR3Dk3ctnrrxkAI6I472RhamIbu.jpg</td>\n",
       "      <td>NaN</td>\n",
       "      <td>0.0</td>\n",
       "      <td>[{'id': 80, 'name': 'Crime'}, {'id': 18, 'name...</td>\n",
       "      <td>NaN</td>\n",
       "      <td>20689.0</td>\n",
       "      <td>en</td>\n",
       "      <td>The Dancer Upstairs</td>\n",
       "      <td>...</td>\n",
       "      <td>5227348.0</td>\n",
       "      <td>132.0</td>\n",
       "      <td>[{'english_name': 'English', 'iso_639_1': 'en'...</td>\n",
       "      <td>Released</td>\n",
       "      <td>An honest man caught in a world of intrigue, p...</td>\n",
       "      <td>The Dancer Upstairs</td>\n",
       "      <td>0.0</td>\n",
       "      <td>6.200</td>\n",
       "      <td>51.0</td>\n",
       "      <td>R</td>\n",
       "    </tr>\n",
       "    <tr>\n",
       "      <th>3</th>\n",
       "      <td>tt0119980</td>\n",
       "      <td>0.0</td>\n",
       "      <td>NaN</td>\n",
       "      <td>NaN</td>\n",
       "      <td>0.0</td>\n",
       "      <td>[{'id': 80, 'name': 'Crime'}, {'id': 18, 'name...</td>\n",
       "      <td>NaN</td>\n",
       "      <td>563364.0</td>\n",
       "      <td>en</td>\n",
       "      <td>Random Shooting in LA</td>\n",
       "      <td>...</td>\n",
       "      <td>0.0</td>\n",
       "      <td>91.0</td>\n",
       "      <td>[{'english_name': 'English', 'iso_639_1': 'en'...</td>\n",
       "      <td>Released</td>\n",
       "      <td>NaN</td>\n",
       "      <td>Random Shooting in LA</td>\n",
       "      <td>0.0</td>\n",
       "      <td>0.000</td>\n",
       "      <td>0.0</td>\n",
       "      <td>NaN</td>\n",
       "    </tr>\n",
       "    <tr>\n",
       "      <th>4</th>\n",
       "      <td>tt0120679</td>\n",
       "      <td>0.0</td>\n",
       "      <td>/s04Ds4xbJU7DzeGVyamccH4LoxF.jpg</td>\n",
       "      <td>NaN</td>\n",
       "      <td>12000000.0</td>\n",
       "      <td>[{'id': 18, 'name': 'Drama'}, {'id': 10749, 'n...</td>\n",
       "      <td>https://www.miramax.com/movie/frida</td>\n",
       "      <td>1360.0</td>\n",
       "      <td>en</td>\n",
       "      <td>Frida</td>\n",
       "      <td>...</td>\n",
       "      <td>56298474.0</td>\n",
       "      <td>123.0</td>\n",
       "      <td>[{'english_name': 'English', 'iso_639_1': 'en'...</td>\n",
       "      <td>Released</td>\n",
       "      <td>Prepare to be seduced.</td>\n",
       "      <td>Frida</td>\n",
       "      <td>0.0</td>\n",
       "      <td>7.424</td>\n",
       "      <td>1911.0</td>\n",
       "      <td>R</td>\n",
       "    </tr>\n",
       "  </tbody>\n",
       "</table>\n",
       "<p>5 rows × 26 columns</p>\n",
       "</div>"
      ],
      "text/plain": [
       "     imdb_id  adult                     backdrop_path belongs_to_collection  \\\n",
       "0          0    NaN                               NaN                   NaN   \n",
       "1  tt0096056    0.0  /95U3MUDXu4xSCmVLtWgargRipDi.jpg                   NaN   \n",
       "2  tt0118926    0.0  /qR3Dk3ctnrrxkAI6I472RhamIbu.jpg                   NaN   \n",
       "3  tt0119980    0.0                               NaN                   NaN   \n",
       "4  tt0120679    0.0  /s04Ds4xbJU7DzeGVyamccH4LoxF.jpg                   NaN   \n",
       "\n",
       "       budget                                             genres  \\\n",
       "0         NaN                                                NaN   \n",
       "1         0.0                      [{'id': 18, 'name': 'Drama'}]   \n",
       "2         0.0  [{'id': 80, 'name': 'Crime'}, {'id': 18, 'name...   \n",
       "3         0.0  [{'id': 80, 'name': 'Crime'}, {'id': 18, 'name...   \n",
       "4  12000000.0  [{'id': 18, 'name': 'Drama'}, {'id': 10749, 'n...   \n",
       "\n",
       "                              homepage        id original_language  \\\n",
       "0                                  NaN       NaN               NaN   \n",
       "1                                  NaN  109809.0                en   \n",
       "2                                  NaN   20689.0                en   \n",
       "3                                  NaN  563364.0                en   \n",
       "4  https://www.miramax.com/movie/frida    1360.0                en   \n",
       "\n",
       "          original_title  ...     revenue  runtime  \\\n",
       "0                    NaN  ...         NaN      NaN   \n",
       "1   Crime and Punishment  ...         0.0    126.0   \n",
       "2    The Dancer Upstairs  ...   5227348.0    132.0   \n",
       "3  Random Shooting in LA  ...         0.0     91.0   \n",
       "4                  Frida  ...  56298474.0    123.0   \n",
       "\n",
       "                                    spoken_languages    status  \\\n",
       "0                                                NaN       NaN   \n",
       "1  [{'english_name': 'English', 'iso_639_1': 'en'...  Released   \n",
       "2  [{'english_name': 'English', 'iso_639_1': 'en'...  Released   \n",
       "3  [{'english_name': 'English', 'iso_639_1': 'en'...  Released   \n",
       "4  [{'english_name': 'English', 'iso_639_1': 'en'...  Released   \n",
       "\n",
       "                                             tagline                  title  \\\n",
       "0                                                NaN                    NaN   \n",
       "1                                                NaN   Crime and Punishment   \n",
       "2  An honest man caught in a world of intrigue, p...    The Dancer Upstairs   \n",
       "3                                                NaN  Random Shooting in LA   \n",
       "4                             Prepare to be seduced.                  Frida   \n",
       "\n",
       "   video  vote_average vote_count certification  \n",
       "0    NaN           NaN        NaN           NaN  \n",
       "1    0.0         5.300       12.0           NaN  \n",
       "2    0.0         6.200       51.0             R  \n",
       "3    0.0         0.000        0.0           NaN  \n",
       "4    0.0         7.424     1911.0             R  \n",
       "\n",
       "[5 rows x 26 columns]"
      ]
     },
     "execution_count": 12,
     "metadata": {},
     "output_type": "execute_result"
    }
   ],
   "source": [
    "# Load the data from your .csv.gz file into a new DataFrame.\n",
    "df = pd.read_csv(csv_fname)\n",
    "df.info()\n",
    "df.head()"
   ]
  },
  {
   "cell_type": "markdown",
   "id": "d2f51db9-8603-4715-b469-19a6ae7db5e2",
   "metadata": {},
   "source": [
    "## How many movies had at least some valid financial information (values > 0 for budget OR revenue)?"
   ]
  },
  {
   "cell_type": "code",
   "execution_count": 14,
   "id": "0a07ec00-9171-4a0e-b958-57ca9282c9e2",
   "metadata": {},
   "outputs": [
    {
     "data": {
      "text/plain": [
       "316"
      ]
     },
     "execution_count": 14,
     "metadata": {},
     "output_type": "execute_result"
    }
   ],
   "source": [
    "filter_budget = df['budget'] >0\n",
    "filter_budget.sum()"
   ]
  },
  {
   "cell_type": "code",
   "execution_count": 15,
   "id": "4b38c829-e231-42f8-80f4-987e636f5e28",
   "metadata": {},
   "outputs": [
    {
     "data": {
      "text/plain": [
       "277"
      ]
     },
     "execution_count": 15,
     "metadata": {},
     "output_type": "execute_result"
    }
   ],
   "source": [
    "filter_revenue = df['revenue'] >0\n",
    "filter_revenue.sum()"
   ]
  },
  {
   "cell_type": "code",
   "execution_count": 16,
   "id": "b1d9492b-1449-4d7b-871a-9dc960ca3e2d",
   "metadata": {},
   "outputs": [
    {
     "data": {
      "text/plain": [
       "215"
      ]
     },
     "execution_count": 16,
     "metadata": {},
     "output_type": "execute_result"
    }
   ],
   "source": [
    "filter_financial = filter_revenue & filter_budget\n",
    "filter_financial.sum()"
   ]
  },
  {
   "cell_type": "code",
   "execution_count": 17,
   "id": "bcff9542-ba10-4c75-a104-5d70332ce141",
   "metadata": {},
   "outputs": [
    {
     "data": {
      "text/html": [
       "<div>\n",
       "<style scoped>\n",
       "    .dataframe tbody tr th:only-of-type {\n",
       "        vertical-align: middle;\n",
       "    }\n",
       "\n",
       "    .dataframe tbody tr th {\n",
       "        vertical-align: top;\n",
       "    }\n",
       "\n",
       "    .dataframe thead th {\n",
       "        text-align: right;\n",
       "    }\n",
       "</style>\n",
       "<table border=\"1\" class=\"dataframe\">\n",
       "  <thead>\n",
       "    <tr style=\"text-align: right;\">\n",
       "      <th></th>\n",
       "      <th>imdb_id</th>\n",
       "      <th>adult</th>\n",
       "      <th>backdrop_path</th>\n",
       "      <th>belongs_to_collection</th>\n",
       "      <th>budget</th>\n",
       "      <th>genres</th>\n",
       "      <th>homepage</th>\n",
       "      <th>id</th>\n",
       "      <th>original_language</th>\n",
       "      <th>original_title</th>\n",
       "      <th>...</th>\n",
       "      <th>revenue</th>\n",
       "      <th>runtime</th>\n",
       "      <th>spoken_languages</th>\n",
       "      <th>status</th>\n",
       "      <th>tagline</th>\n",
       "      <th>title</th>\n",
       "      <th>video</th>\n",
       "      <th>vote_average</th>\n",
       "      <th>vote_count</th>\n",
       "      <th>certification</th>\n",
       "    </tr>\n",
       "  </thead>\n",
       "  <tbody>\n",
       "    <tr>\n",
       "      <th>4</th>\n",
       "      <td>tt0120679</td>\n",
       "      <td>0.0</td>\n",
       "      <td>/s04Ds4xbJU7DzeGVyamccH4LoxF.jpg</td>\n",
       "      <td>NaN</td>\n",
       "      <td>12000000.0</td>\n",
       "      <td>[{'id': 18, 'name': 'Drama'}, {'id': 10749, 'n...</td>\n",
       "      <td>https://www.miramax.com/movie/frida</td>\n",
       "      <td>1360.0</td>\n",
       "      <td>en</td>\n",
       "      <td>Frida</td>\n",
       "      <td>...</td>\n",
       "      <td>56298474.0</td>\n",
       "      <td>123.0</td>\n",
       "      <td>[{'english_name': 'English', 'iso_639_1': 'en'...</td>\n",
       "      <td>Released</td>\n",
       "      <td>Prepare to be seduced.</td>\n",
       "      <td>Frida</td>\n",
       "      <td>0.0</td>\n",
       "      <td>7.424</td>\n",
       "      <td>1911.0</td>\n",
       "      <td>R</td>\n",
       "    </tr>\n",
       "    <tr>\n",
       "      <th>5</th>\n",
       "      <td>tt0120804</td>\n",
       "      <td>0.0</td>\n",
       "      <td>/l5KvxFVOru3Qyf3dl2asNw5g1MD.jpg</td>\n",
       "      <td>{'id': 17255, 'name': 'Resident Evil Collectio...</td>\n",
       "      <td>33000000.0</td>\n",
       "      <td>[{'id': 27, 'name': 'Horror'}, {'id': 28, 'nam...</td>\n",
       "      <td>https://www.sonypictures.com/movies/residentevil</td>\n",
       "      <td>1576.0</td>\n",
       "      <td>en</td>\n",
       "      <td>Resident Evil</td>\n",
       "      <td>...</td>\n",
       "      <td>102984862.0</td>\n",
       "      <td>100.0</td>\n",
       "      <td>[{'english_name': 'English', 'iso_639_1': 'en'...</td>\n",
       "      <td>Released</td>\n",
       "      <td>A secret experiment. A deadly virus. A fatal m...</td>\n",
       "      <td>Resident Evil</td>\n",
       "      <td>0.0</td>\n",
       "      <td>6.611</td>\n",
       "      <td>5843.0</td>\n",
       "      <td>R</td>\n",
       "    </tr>\n",
       "    <tr>\n",
       "      <th>6</th>\n",
       "      <td>tt0120912</td>\n",
       "      <td>0.0</td>\n",
       "      <td>/o1l6OCqA3pYDZHIc5L1s7CEzCMv.jpg</td>\n",
       "      <td>{'id': 86055, 'name': 'Men In Black Collection...</td>\n",
       "      <td>140000000.0</td>\n",
       "      <td>[{'id': 28, 'name': 'Action'}, {'id': 12, 'nam...</td>\n",
       "      <td>https://www.sonypictures.com/movies/meninblackii</td>\n",
       "      <td>608.0</td>\n",
       "      <td>en</td>\n",
       "      <td>Men in Black II</td>\n",
       "      <td>...</td>\n",
       "      <td>445135288.0</td>\n",
       "      <td>88.0</td>\n",
       "      <td>[{'english_name': 'English', 'iso_639_1': 'en'...</td>\n",
       "      <td>Released</td>\n",
       "      <td>Back in black.</td>\n",
       "      <td>Men in Black II</td>\n",
       "      <td>0.0</td>\n",
       "      <td>6.359</td>\n",
       "      <td>9293.0</td>\n",
       "      <td>PG-13</td>\n",
       "    </tr>\n",
       "    <tr>\n",
       "      <th>7</th>\n",
       "      <td>tt0121765</td>\n",
       "      <td>0.0</td>\n",
       "      <td>/abwxHfymXGAbbH3lo9PDEJEfvtW.jpg</td>\n",
       "      <td>{'id': 10, 'name': 'Star Wars Collection', 'po...</td>\n",
       "      <td>120000000.0</td>\n",
       "      <td>[{'id': 12, 'name': 'Adventure'}, {'id': 28, '...</td>\n",
       "      <td>NaN</td>\n",
       "      <td>1894.0</td>\n",
       "      <td>en</td>\n",
       "      <td>Star Wars: Episode II - Attack of the Clones</td>\n",
       "      <td>...</td>\n",
       "      <td>649398328.0</td>\n",
       "      <td>142.0</td>\n",
       "      <td>[{'english_name': 'English', 'iso_639_1': 'en'...</td>\n",
       "      <td>Released</td>\n",
       "      <td>A Jedi Shall Not Know Anger. Nor Hatred. Nor L...</td>\n",
       "      <td>Star Wars: Episode II - Attack of the Clones</td>\n",
       "      <td>0.0</td>\n",
       "      <td>6.550</td>\n",
       "      <td>12347.0</td>\n",
       "      <td>PG</td>\n",
       "    </tr>\n",
       "    <tr>\n",
       "      <th>8</th>\n",
       "      <td>tt0133240</td>\n",
       "      <td>0.0</td>\n",
       "      <td>/mVuH9hNGnxF9bbhlh1Tr9FuG3Uc.jpg</td>\n",
       "      <td>NaN</td>\n",
       "      <td>140000000.0</td>\n",
       "      <td>[{'id': 12, 'name': 'Adventure'}, {'id': 16, '...</td>\n",
       "      <td>NaN</td>\n",
       "      <td>9016.0</td>\n",
       "      <td>en</td>\n",
       "      <td>Treasure Planet</td>\n",
       "      <td>...</td>\n",
       "      <td>109578115.0</td>\n",
       "      <td>95.0</td>\n",
       "      <td>[{'english_name': 'English', 'iso_639_1': 'en'...</td>\n",
       "      <td>Released</td>\n",
       "      <td>Find your place in the universe.</td>\n",
       "      <td>Treasure Planet</td>\n",
       "      <td>0.0</td>\n",
       "      <td>7.531</td>\n",
       "      <td>3834.0</td>\n",
       "      <td>PG</td>\n",
       "    </tr>\n",
       "    <tr>\n",
       "      <th>...</th>\n",
       "      <td>...</td>\n",
       "      <td>...</td>\n",
       "      <td>...</td>\n",
       "      <td>...</td>\n",
       "      <td>...</td>\n",
       "      <td>...</td>\n",
       "      <td>...</td>\n",
       "      <td>...</td>\n",
       "      <td>...</td>\n",
       "      <td>...</td>\n",
       "      <td>...</td>\n",
       "      <td>...</td>\n",
       "      <td>...</td>\n",
       "      <td>...</td>\n",
       "      <td>...</td>\n",
       "      <td>...</td>\n",
       "      <td>...</td>\n",
       "      <td>...</td>\n",
       "      <td>...</td>\n",
       "      <td>...</td>\n",
       "      <td>...</td>\n",
       "    </tr>\n",
       "    <tr>\n",
       "      <th>1130</th>\n",
       "      <td>tt0364385</td>\n",
       "      <td>0.0</td>\n",
       "      <td>/3ZDkl8rsoLe6g4FRV9alNH5sZOt.jpg</td>\n",
       "      <td>{'id': 1972, 'name': 'Ju-on Collection', 'post...</td>\n",
       "      <td>3500000.0</td>\n",
       "      <td>[{'id': 27, 'name': 'Horror'}]</td>\n",
       "      <td>NaN</td>\n",
       "      <td>11838.0</td>\n",
       "      <td>ja</td>\n",
       "      <td>呪怨</td>\n",
       "      <td>...</td>\n",
       "      <td>3657876.0</td>\n",
       "      <td>92.0</td>\n",
       "      <td>[{'english_name': 'Japanese', 'iso_639_1': 'ja...</td>\n",
       "      <td>Released</td>\n",
       "      <td>When a grudge from the dead passes to the livi...</td>\n",
       "      <td>Ju-on: The Grudge</td>\n",
       "      <td>0.0</td>\n",
       "      <td>6.684</td>\n",
       "      <td>708.0</td>\n",
       "      <td>R</td>\n",
       "    </tr>\n",
       "    <tr>\n",
       "      <th>1138</th>\n",
       "      <td>tt0365960</td>\n",
       "      <td>0.0</td>\n",
       "      <td>/ahXtNFVHtFxvjphZN8QlHRVsu9W.jpg</td>\n",
       "      <td>NaN</td>\n",
       "      <td>20000.0</td>\n",
       "      <td>[{'id': 80, 'name': 'Crime'}, {'id': 18, 'name...</td>\n",
       "      <td>NaN</td>\n",
       "      <td>27090.0</td>\n",
       "      <td>en</td>\n",
       "      <td>Zero Day</td>\n",
       "      <td>...</td>\n",
       "      <td>8466.0</td>\n",
       "      <td>92.0</td>\n",
       "      <td>[{'english_name': 'German', 'iso_639_1': 'de',...</td>\n",
       "      <td>Released</td>\n",
       "      <td>In high school, you're told you can do anythin...</td>\n",
       "      <td>Zero Day</td>\n",
       "      <td>0.0</td>\n",
       "      <td>7.400</td>\n",
       "      <td>79.0</td>\n",
       "      <td>NaN</td>\n",
       "    </tr>\n",
       "    <tr>\n",
       "      <th>1225</th>\n",
       "      <td>tt0757920</td>\n",
       "      <td>0.0</td>\n",
       "      <td>/sOkmFOVcDmH2P4GU9Mvyc4ZBC3D.jpg</td>\n",
       "      <td>NaN</td>\n",
       "      <td>10000.0</td>\n",
       "      <td>[{'id': 18, 'name': 'Drama'}, {'id': 10749, 'n...</td>\n",
       "      <td>NaN</td>\n",
       "      <td>44078.0</td>\n",
       "      <td>fa</td>\n",
       "      <td>Dokhtar-e shirini-foroosh</td>\n",
       "      <td>...</td>\n",
       "      <td>10000.0</td>\n",
       "      <td>105.0</td>\n",
       "      <td>[{'english_name': 'Persian', 'iso_639_1': 'fa'...</td>\n",
       "      <td>Released</td>\n",
       "      <td>NaN</td>\n",
       "      <td>The Pastry Girl</td>\n",
       "      <td>0.0</td>\n",
       "      <td>1.000</td>\n",
       "      <td>1.0</td>\n",
       "      <td>NaN</td>\n",
       "    </tr>\n",
       "    <tr>\n",
       "      <th>1241</th>\n",
       "      <td>tt1039983</td>\n",
       "      <td>0.0</td>\n",
       "      <td>/7B5IQdNNyNsSwBaW9zzCT9XmAcJ.jpg</td>\n",
       "      <td>NaN</td>\n",
       "      <td>500000.0</td>\n",
       "      <td>[{'id': 28, 'name': 'Action'}, {'id': 80, 'nam...</td>\n",
       "      <td>NaN</td>\n",
       "      <td>69419.0</td>\n",
       "      <td>ta</td>\n",
       "      <td>ரெட்</td>\n",
       "      <td>...</td>\n",
       "      <td>500000.0</td>\n",
       "      <td>157.0</td>\n",
       "      <td>[{'english_name': 'Tamil', 'iso_639_1': 'ta', ...</td>\n",
       "      <td>Released</td>\n",
       "      <td>NaN</td>\n",
       "      <td>Red</td>\n",
       "      <td>0.0</td>\n",
       "      <td>5.100</td>\n",
       "      <td>7.0</td>\n",
       "      <td>NaN</td>\n",
       "    </tr>\n",
       "    <tr>\n",
       "      <th>1262</th>\n",
       "      <td>tt1621767</td>\n",
       "      <td>0.0</td>\n",
       "      <td>NaN</td>\n",
       "      <td>NaN</td>\n",
       "      <td>400000.0</td>\n",
       "      <td>[{'id': 10749, 'name': 'Romance'}]</td>\n",
       "      <td>NaN</td>\n",
       "      <td>99116.0</td>\n",
       "      <td>ta</td>\n",
       "      <td>ஏப்ரல் மாதத்தில்</td>\n",
       "      <td>...</td>\n",
       "      <td>2000000.0</td>\n",
       "      <td>153.0</td>\n",
       "      <td>[{'english_name': 'Tamil', 'iso_639_1': 'ta', ...</td>\n",
       "      <td>Released</td>\n",
       "      <td>NaN</td>\n",
       "      <td>April Maadhathil</td>\n",
       "      <td>0.0</td>\n",
       "      <td>4.600</td>\n",
       "      <td>4.0</td>\n",
       "      <td>NaN</td>\n",
       "    </tr>\n",
       "  </tbody>\n",
       "</table>\n",
       "<p>215 rows × 26 columns</p>\n",
       "</div>"
      ],
      "text/plain": [
       "        imdb_id  adult                     backdrop_path  \\\n",
       "4     tt0120679    0.0  /s04Ds4xbJU7DzeGVyamccH4LoxF.jpg   \n",
       "5     tt0120804    0.0  /l5KvxFVOru3Qyf3dl2asNw5g1MD.jpg   \n",
       "6     tt0120912    0.0  /o1l6OCqA3pYDZHIc5L1s7CEzCMv.jpg   \n",
       "7     tt0121765    0.0  /abwxHfymXGAbbH3lo9PDEJEfvtW.jpg   \n",
       "8     tt0133240    0.0  /mVuH9hNGnxF9bbhlh1Tr9FuG3Uc.jpg   \n",
       "...         ...    ...                               ...   \n",
       "1130  tt0364385    0.0  /3ZDkl8rsoLe6g4FRV9alNH5sZOt.jpg   \n",
       "1138  tt0365960    0.0  /ahXtNFVHtFxvjphZN8QlHRVsu9W.jpg   \n",
       "1225  tt0757920    0.0  /sOkmFOVcDmH2P4GU9Mvyc4ZBC3D.jpg   \n",
       "1241  tt1039983    0.0  /7B5IQdNNyNsSwBaW9zzCT9XmAcJ.jpg   \n",
       "1262  tt1621767    0.0                               NaN   \n",
       "\n",
       "                                  belongs_to_collection       budget  \\\n",
       "4                                                   NaN   12000000.0   \n",
       "5     {'id': 17255, 'name': 'Resident Evil Collectio...   33000000.0   \n",
       "6     {'id': 86055, 'name': 'Men In Black Collection...  140000000.0   \n",
       "7     {'id': 10, 'name': 'Star Wars Collection', 'po...  120000000.0   \n",
       "8                                                   NaN  140000000.0   \n",
       "...                                                 ...          ...   \n",
       "1130  {'id': 1972, 'name': 'Ju-on Collection', 'post...    3500000.0   \n",
       "1138                                                NaN      20000.0   \n",
       "1225                                                NaN      10000.0   \n",
       "1241                                                NaN     500000.0   \n",
       "1262                                                NaN     400000.0   \n",
       "\n",
       "                                                 genres  \\\n",
       "4     [{'id': 18, 'name': 'Drama'}, {'id': 10749, 'n...   \n",
       "5     [{'id': 27, 'name': 'Horror'}, {'id': 28, 'nam...   \n",
       "6     [{'id': 28, 'name': 'Action'}, {'id': 12, 'nam...   \n",
       "7     [{'id': 12, 'name': 'Adventure'}, {'id': 28, '...   \n",
       "8     [{'id': 12, 'name': 'Adventure'}, {'id': 16, '...   \n",
       "...                                                 ...   \n",
       "1130                     [{'id': 27, 'name': 'Horror'}]   \n",
       "1138  [{'id': 80, 'name': 'Crime'}, {'id': 18, 'name...   \n",
       "1225  [{'id': 18, 'name': 'Drama'}, {'id': 10749, 'n...   \n",
       "1241  [{'id': 28, 'name': 'Action'}, {'id': 80, 'nam...   \n",
       "1262                 [{'id': 10749, 'name': 'Romance'}]   \n",
       "\n",
       "                                              homepage       id  \\\n",
       "4                  https://www.miramax.com/movie/frida   1360.0   \n",
       "5     https://www.sonypictures.com/movies/residentevil   1576.0   \n",
       "6     https://www.sonypictures.com/movies/meninblackii    608.0   \n",
       "7                                                  NaN   1894.0   \n",
       "8                                                  NaN   9016.0   \n",
       "...                                                ...      ...   \n",
       "1130                                               NaN  11838.0   \n",
       "1138                                               NaN  27090.0   \n",
       "1225                                               NaN  44078.0   \n",
       "1241                                               NaN  69419.0   \n",
       "1262                                               NaN  99116.0   \n",
       "\n",
       "     original_language                                original_title  ...  \\\n",
       "4                   en                                         Frida  ...   \n",
       "5                   en                                 Resident Evil  ...   \n",
       "6                   en                               Men in Black II  ...   \n",
       "7                   en  Star Wars: Episode II - Attack of the Clones  ...   \n",
       "8                   en                               Treasure Planet  ...   \n",
       "...                ...                                           ...  ...   \n",
       "1130                ja                                            呪怨  ...   \n",
       "1138                en                                      Zero Day  ...   \n",
       "1225                fa                     Dokhtar-e shirini-foroosh  ...   \n",
       "1241                ta                                          ரெட்  ...   \n",
       "1262                ta                              ஏப்ரல் மாதத்தில்  ...   \n",
       "\n",
       "          revenue  runtime                                   spoken_languages  \\\n",
       "4      56298474.0    123.0  [{'english_name': 'English', 'iso_639_1': 'en'...   \n",
       "5     102984862.0    100.0  [{'english_name': 'English', 'iso_639_1': 'en'...   \n",
       "6     445135288.0     88.0  [{'english_name': 'English', 'iso_639_1': 'en'...   \n",
       "7     649398328.0    142.0  [{'english_name': 'English', 'iso_639_1': 'en'...   \n",
       "8     109578115.0     95.0  [{'english_name': 'English', 'iso_639_1': 'en'...   \n",
       "...           ...      ...                                                ...   \n",
       "1130    3657876.0     92.0  [{'english_name': 'Japanese', 'iso_639_1': 'ja...   \n",
       "1138       8466.0     92.0  [{'english_name': 'German', 'iso_639_1': 'de',...   \n",
       "1225      10000.0    105.0  [{'english_name': 'Persian', 'iso_639_1': 'fa'...   \n",
       "1241     500000.0    157.0  [{'english_name': 'Tamil', 'iso_639_1': 'ta', ...   \n",
       "1262    2000000.0    153.0  [{'english_name': 'Tamil', 'iso_639_1': 'ta', ...   \n",
       "\n",
       "        status                                            tagline  \\\n",
       "4     Released                             Prepare to be seduced.   \n",
       "5     Released  A secret experiment. A deadly virus. A fatal m...   \n",
       "6     Released                                     Back in black.   \n",
       "7     Released  A Jedi Shall Not Know Anger. Nor Hatred. Nor L...   \n",
       "8     Released                   Find your place in the universe.   \n",
       "...        ...                                                ...   \n",
       "1130  Released  When a grudge from the dead passes to the livi...   \n",
       "1138  Released  In high school, you're told you can do anythin...   \n",
       "1225  Released                                                NaN   \n",
       "1241  Released                                                NaN   \n",
       "1262  Released                                                NaN   \n",
       "\n",
       "                                             title  video  vote_average  \\\n",
       "4                                            Frida    0.0         7.424   \n",
       "5                                    Resident Evil    0.0         6.611   \n",
       "6                                  Men in Black II    0.0         6.359   \n",
       "7     Star Wars: Episode II - Attack of the Clones    0.0         6.550   \n",
       "8                                  Treasure Planet    0.0         7.531   \n",
       "...                                            ...    ...           ...   \n",
       "1130                             Ju-on: The Grudge    0.0         6.684   \n",
       "1138                                      Zero Day    0.0         7.400   \n",
       "1225                               The Pastry Girl    0.0         1.000   \n",
       "1241                                           Red    0.0         5.100   \n",
       "1262                              April Maadhathil    0.0         4.600   \n",
       "\n",
       "     vote_count certification  \n",
       "4        1911.0             R  \n",
       "5        5843.0             R  \n",
       "6        9293.0         PG-13  \n",
       "7       12347.0            PG  \n",
       "8        3834.0            PG  \n",
       "...         ...           ...  \n",
       "1130      708.0             R  \n",
       "1138       79.0           NaN  \n",
       "1225        1.0           NaN  \n",
       "1241        7.0           NaN  \n",
       "1262        4.0           NaN  \n",
       "\n",
       "[215 rows x 26 columns]"
      ]
     },
     "execution_count": 17,
     "metadata": {},
     "output_type": "execute_result"
    }
   ],
   "source": [
    "# Remove any movies with 0's for budget AND revenue from the remaining visualizations.\n",
    "df = df[filter_financial]\n",
    "df"
   ]
  },
  {
   "cell_type": "code",
   "execution_count": 18,
   "id": "92fe7eda-d97d-42b8-b6f6-39f5e2dbd6a2",
   "metadata": {},
   "outputs": [
    {
     "name": "stdout",
     "output_type": "stream",
     "text": [
      "There are 215 movies with valid budget/revenue.\n"
     ]
    }
   ],
   "source": [
    "print(f\"There are {len(df)} movies with valid budget/revenue.\")"
   ]
  },
  {
   "cell_type": "markdown",
   "id": "68a92740-df4f-4225-9241-23010daade2b",
   "metadata": {},
   "source": [
    "## How many movies are there in each of the certification categories (G/PG/PG-13/R)?"
   ]
  },
  {
   "cell_type": "code",
   "execution_count": 19,
   "id": "be3629fa-aeec-4170-8f4e-1cb24eb8e07c",
   "metadata": {},
   "outputs": [
    {
     "data": {
      "text/plain": [
       "R        79\n",
       "PG-13    67\n",
       "NaN      42\n",
       "PG       18\n",
       "G         6\n",
       "NR        3\n",
       "Name: certification, dtype: int64"
      ]
     },
     "execution_count": 19,
     "metadata": {},
     "output_type": "execute_result"
    },
    {
     "data": {
      "image/png": "[encoded data removed]",
      "text/plain": [
       "<Figure size 640x480 with 1 Axes>"
      ]
     },
     "metadata": {},
     "output_type": "display_data"
    }
   ],
   "source": [
    "sns.countplot(data=df, x='certification');\n",
    "df['certification'].value_counts(dropna=False)"
   ]
  },
  {
   "cell_type": "markdown",
   "id": "c8e1cb94-5b8b-4b81-8d76-f4922d39454b",
   "metadata": {},
   "source": [
    "## What is the average revenue per certification category?"
   ]
  },
  {
   "cell_type": "code",
   "execution_count": 20,
   "id": "d160d5e9-7f01-4e3c-a194-5d3d8c033631",
   "metadata": {},
   "outputs": [
    {
     "data": {
      "text/plain": [
       "certification\n",
       "G       $ 108,695,069\n",
       "NR        $ 2,393,180\n",
       "PG      $ 220,426,659\n",
       "PG-13   $ 114,070,214\n",
       "R        $ 39,965,129\n",
       "Name: revenue, dtype: float64"
      ]
     },
     "metadata": {},
     "output_type": "display_data"
    },
    {
     "data": {
      "image/png": "[encoded data removed]",
      "text/plain": [
       "<Figure size 640x480 with 1 Axes>"
      ]
     },
     "metadata": {},
     "output_type": "display_data"
    }
   ],
   "source": [
    "with pd.option_context('display.float_format',lambda x: f\"$ {x:,.0f}\"):\n",
    "    display(df.groupby('certification')['revenue'].mean())\n",
    "\n",
    "sns.barplot(data=df, x='certification', y='revenue');"
   ]
  },
  {
   "cell_type": "markdown",
   "id": "9b2e672e-fc14-4a14-9f30-08afe4ce7b81",
   "metadata": {},
   "source": [
    "## What is the average budget per certification category?"
   ]
  },
  {
   "cell_type": "code",
   "execution_count": 21,
   "id": "803f533c-66b2-4110-9582-e492f83b4352",
   "metadata": {},
   "outputs": [
    {
     "data": {
      "text/plain": [
       "certification\n",
       "G       $ 52,333,333\n",
       "NR       $ 4,233,333\n",
       "PG      $ 53,322,222\n",
       "PG-13   $ 42,681,058\n",
       "R       $ 26,070,457\n",
       "Name: budget, dtype: float64"
      ]
     },
     "metadata": {},
     "output_type": "display_data"
    },
    {
     "data": {
      "image/png": "[encoded data removed]",
      "text/plain": [
       "<Figure size 640x480 with 1 Axes>"
      ]
     },
     "metadata": {},
     "output_type": "display_data"
    }
   ],
   "source": [
    "with pd.option_context('display.float_format',lambda x: f\"$ {x:,.0f}\"):\n",
    "    display(df.groupby('certification')['budget'].mean())\n",
    "\n",
    "sns.barplot(data=df, x='certification', y='budget');"
   ]
  }
 ],
 "metadata": {
  "kernelspec": {
   "display_name": "Python 3 (ipykernel)",
   "language": "python",
   "name": "python3"
  },
  "language_info": {
   "codemirror_mode": {
    "name": "ipython",
    "version": 3
   },
   "file_extension": ".py",
   "mimetype": "text/x-python",
   "name": "python",
   "nbconvert_exporter": "python",
   "pygments_lexer": "ipython3",
   "version": "3.10.10"
  },
  "widgets": {
   "application/vnd.jupyter.widget-state+json": {
    "state": {
     "001ae48687dc4f97907f59fdf00f325a": {
      "model_module": "@jupyter-widgets/controls",
      "model_module_version": "2.0.0",
      "model_name": "HTMLModel",
      "state": {
       "layout": "IPY_MODEL_52201111f8e94b9dae166640b83f684f",
       "style": "IPY_MODEL_59dcec03f14e4b36a4db89e1457a272f",
       "value": " 219/219 [00:22&lt;00:00,  9.19it/s]"
      }
     },
     "09de607e33a14f1ca7e9a49a1eef915b": {
      "model_module": "@jupyter-widgets/controls",
      "model_module_version": "2.0.0",
      "model_name": "HTMLStyleModel",
      "state": {
       "description_width": "",
       "font_size": null,
       "text_color": null
      }
     },
     "0bbef1e5201f46569a6ca0dfa35537c1": {
      "model_module": "@jupyter-widgets/base",
      "model_module_version": "2.0.0",
      "model_name": "LayoutModel",
      "state": {}
     },
     "0f17d13f2e7a4084bf81a353999a1bb1": {
      "model_module": "@jupyter-widgets/controls",
      "model_module_version": "2.0.0",
      "model_name": "FloatProgressModel",
      "state": {
       "bar_style": "success",
       "layout": "IPY_MODEL_46b6493043fc43008ee1940d8fb5c21a",
       "max": 1572,
       "style": "IPY_MODEL_5d1e5d009811469fb6e4c709207f173a",
       "value": 1572
      }
     },
     "123197c51ea94f9f98681c7929c59624": {
      "model_module": "@jupyter-widgets/controls",
      "model_module_version": "2.0.0",
      "model_name": "HTMLModel",
      "state": {
       "layout": "IPY_MODEL_814d2c14c37c4331b86cf223c17257d9",
       "style": "IPY_MODEL_2915a7d8bad540859f86141ed01bff1d",
       "value": "Movies from 2002: 100%"
      }
     },
     "146b18c8b945407e909591ed265c1329": {
      "model_module": "@jupyter-widgets/controls",
      "model_module_version": "2.0.0",
      "model_name": "ProgressStyleModel",
      "state": {
       "description_width": ""
      }
     },
     "1cd2db9e24ff4bc9a61708ba42bc5bcb": {
      "model_module": "@jupyter-widgets/base",
      "model_module_version": "2.0.0",
      "model_name": "LayoutModel",
      "state": {}
     },
     "1f9135aeecb54eebaf00e8909839f70c": {
      "model_module": "@jupyter-widgets/controls",
      "model_module_version": "2.0.0",
      "model_name": "HBoxModel",
      "state": {
       "children": [
        "IPY_MODEL_37bc9d90030c441792f0d924e9bc7b2c",
        "IPY_MODEL_af9a5566a8b14697837be7c94b8be4fa",
        "IPY_MODEL_863316f6f31e4a2ead4e10f5ccac5fe7"
       ],
       "layout": "IPY_MODEL_61e97718bf364af9bb36f4a419320878"
      }
     },
     "2915a7d8bad540859f86141ed01bff1d": {
      "model_module": "@jupyter-widgets/controls",
      "model_module_version": "2.0.0",
      "model_name": "HTMLStyleModel",
      "state": {
       "description_width": "",
       "font_size": null,
       "text_color": null
      }
     },
     "2d010e63147c42fc87b237ae959ec363": {
      "model_module": "@jupyter-widgets/base",
      "model_module_version": "2.0.0",
      "model_name": "LayoutModel",
      "state": {}
     },
     "31be67e42fa44218b8974659576d2d08": {
      "model_module": "@jupyter-widgets/controls",
      "model_module_version": "2.0.0",
      "model_name": "HTMLStyleModel",
      "state": {
       "description_width": "",
       "font_size": null,
       "text_color": null
      }
     },
     "340fd93446a84871a338de05b557ed21": {
      "model_module": "@jupyter-widgets/controls",
      "model_module_version": "2.0.0",
      "model_name": "HTMLModel",
      "state": {
       "layout": "IPY_MODEL_0bbef1e5201f46569a6ca0dfa35537c1",
       "style": "IPY_MODEL_85339962d7e04bb4a0cef324a87651d8",
       "value": " 1572/1572 [11:11&lt;00:00,  3.78it/s]"
      }
     },
     "37bc9d90030c441792f0d924e9bc7b2c": {
      "model_module": "@jupyter-widgets/controls",
      "model_module_version": "2.0.0",
      "model_name": "HTMLModel",
      "state": {
       "layout": "IPY_MODEL_a862e6e55e9944ffb314eee306a9d1ae",
       "style": "IPY_MODEL_31be67e42fa44218b8974659576d2d08",
       "value": "YEARS:   0%"
      }
     },
     "42512a456763428bafb34c81c00f9f6f": {
      "model_module": "@jupyter-widgets/controls",
      "model_module_version": "2.0.0",
      "model_name": "FloatProgressModel",
      "state": {
       "bar_style": "success",
       "layout": "IPY_MODEL_1cd2db9e24ff4bc9a61708ba42bc5bcb",
       "max": 219,
       "style": "IPY_MODEL_85132afdbba14834bffbecadea36c38f",
       "value": 219
      }
     },
     "430a58857d6549eba64eff24d8f41396": {
      "model_module": "@jupyter-widgets/controls",
      "model_module_version": "2.0.0",
      "model_name": "HTMLStyleModel",
      "state": {
       "description_width": "",
       "font_size": null,
       "text_color": null
      }
     },
     "46b6493043fc43008ee1940d8fb5c21a": {
      "model_module": "@jupyter-widgets/base",
      "model_module_version": "2.0.0",
      "model_name": "LayoutModel",
      "state": {}
     },
     "52201111f8e94b9dae166640b83f684f": {
      "model_module": "@jupyter-widgets/base",
      "model_module_version": "2.0.0",
      "model_name": "LayoutModel",
      "state": {}
     },
     "59dcec03f14e4b36a4db89e1457a272f": {
      "model_module": "@jupyter-widgets/controls",
      "model_module_version": "2.0.0",
      "model_name": "HTMLStyleModel",
      "state": {
       "description_width": "",
       "font_size": null,
       "text_color": null
      }
     },
     "5d1e5d009811469fb6e4c709207f173a": {
      "model_module": "@jupyter-widgets/controls",
      "model_module_version": "2.0.0",
      "model_name": "ProgressStyleModel",
      "state": {
       "description_width": ""
      }
     },
     "61e97718bf364af9bb36f4a419320878": {
      "model_module": "@jupyter-widgets/base",
      "model_module_version": "2.0.0",
      "model_name": "LayoutModel",
      "state": {}
     },
     "63d0edec7e5e4b2685c968f213e77fc4": {
      "model_module": "@jupyter-widgets/controls",
      "model_module_version": "2.0.0",
      "model_name": "HTMLModel",
      "state": {
       "layout": "IPY_MODEL_811b4320c16746fc9d5701a4cda6e198",
       "style": "IPY_MODEL_430a58857d6549eba64eff24d8f41396",
       "value": "Movies from 2001: 100%"
      }
     },
     "651b81281bdf46fd9a77812f6064a71a": {
      "model_module": "@jupyter-widgets/controls",
      "model_module_version": "2.0.0",
      "model_name": "HBoxModel",
      "state": {
       "children": [
        "IPY_MODEL_123197c51ea94f9f98681c7929c59624",
        "IPY_MODEL_0f17d13f2e7a4084bf81a353999a1bb1",
        "IPY_MODEL_340fd93446a84871a338de05b557ed21"
       ],
       "layout": "IPY_MODEL_2d010e63147c42fc87b237ae959ec363"
      }
     },
     "715a7855a69a4218be26aea8d237ee72": {
      "model_module": "@jupyter-widgets/base",
      "model_module_version": "2.0.0",
      "model_name": "LayoutModel",
      "state": {}
     },
     "811b4320c16746fc9d5701a4cda6e198": {
      "model_module": "@jupyter-widgets/base",
      "model_module_version": "2.0.0",
      "model_name": "LayoutModel",
      "state": {}
     },
     "814d2c14c37c4331b86cf223c17257d9": {
      "model_module": "@jupyter-widgets/base",
      "model_module_version": "2.0.0",
      "model_name": "LayoutModel",
      "state": {}
     },
     "83f3cab41a204f3b91235afdf0f3d17d": {
      "model_module": "@jupyter-widgets/controls",
      "model_module_version": "2.0.0",
      "model_name": "HTMLModel",
      "state": {
       "layout": "IPY_MODEL_715a7855a69a4218be26aea8d237ee72",
       "style": "IPY_MODEL_b09f64305a614513b1a767523a2ef700",
       "value": " 2/2 [11:34&lt;00:00, 404.71s/it]"
      }
     },
     "84743edb8a854f778f3a6de703661d97": {
      "model_module": "@jupyter-widgets/controls",
      "model_module_version": "2.0.0",
      "model_name": "FloatProgressModel",
      "state": {
       "bar_style": "success",
       "layout": "IPY_MODEL_e65ca397c6f740c3a3245d843ff2559f",
       "max": 2,
       "style": "IPY_MODEL_bdcc83155a8442778380fa84e5c0307e",
       "value": 2
      }
     },
     "85132afdbba14834bffbecadea36c38f": {
      "model_module": "@jupyter-widgets/controls",
      "model_module_version": "2.0.0",
      "model_name": "ProgressStyleModel",
      "state": {
       "description_width": ""
      }
     },
     "85339962d7e04bb4a0cef324a87651d8": {
      "model_module": "@jupyter-widgets/controls",
      "model_module_version": "2.0.0",
      "model_name": "HTMLStyleModel",
      "state": {
       "description_width": "",
       "font_size": null,
       "text_color": null
      }
     },
     "85d82ea27f7d4b3ebadb3429e213ed75": {
      "model_module": "@jupyter-widgets/controls",
      "model_module_version": "2.0.0",
      "model_name": "HBoxModel",
      "state": {
       "children": [
        "IPY_MODEL_f1fe07e23d834a94959477130195b467",
        "IPY_MODEL_84743edb8a854f778f3a6de703661d97",
        "IPY_MODEL_83f3cab41a204f3b91235afdf0f3d17d"
       ],
       "layout": "IPY_MODEL_d05573c3438948198924912a7ede9f86"
      }
     },
     "863316f6f31e4a2ead4e10f5ccac5fe7": {
      "model_module": "@jupyter-widgets/controls",
      "model_module_version": "2.0.0",
      "model_name": "HTMLModel",
      "state": {
       "layout": "IPY_MODEL_f14daf7d43224a2aba76832ad7a9437e",
       "style": "IPY_MODEL_09de607e33a14f1ca7e9a49a1eef915b",
       "value": " 0/2 [00:00&lt;?, ?it/s]"
      }
     },
     "98299c5a038843b1ad2339d7bb54596b": {
      "model_module": "@jupyter-widgets/base",
      "model_module_version": "2.0.0",
      "model_name": "LayoutModel",
      "state": {}
     },
     "a862e6e55e9944ffb314eee306a9d1ae": {
      "model_module": "@jupyter-widgets/base",
      "model_module_version": "2.0.0",
      "model_name": "LayoutModel",
      "state": {}
     },
     "af9a5566a8b14697837be7c94b8be4fa": {
      "model_module": "@jupyter-widgets/controls",
      "model_module_version": "2.0.0",
      "model_name": "FloatProgressModel",
      "state": {
       "bar_style": "danger",
       "layout": "IPY_MODEL_e042be43f5fc4b34b05e0a63a95bb2aa",
       "max": 2,
       "style": "IPY_MODEL_146b18c8b945407e909591ed265c1329"
      }
     },
     "b09f64305a614513b1a767523a2ef700": {
      "model_module": "@jupyter-widgets/controls",
      "model_module_version": "2.0.0",
      "model_name": "HTMLStyleModel",
      "state": {
       "description_width": "",
       "font_size": null,
       "text_color": null
      }
     },
     "bdcc83155a8442778380fa84e5c0307e": {
      "model_module": "@jupyter-widgets/controls",
      "model_module_version": "2.0.0",
      "model_name": "ProgressStyleModel",
      "state": {
       "description_width": ""
      }
     },
     "d05573c3438948198924912a7ede9f86": {
      "model_module": "@jupyter-widgets/base",
      "model_module_version": "2.0.0",
      "model_name": "LayoutModel",
      "state": {}
     },
     "e042be43f5fc4b34b05e0a63a95bb2aa": {
      "model_module": "@jupyter-widgets/base",
      "model_module_version": "2.0.0",
      "model_name": "LayoutModel",
      "state": {}
     },
     "e20d0e3278004807ac3ef40a6b3e5579": {
      "model_module": "@jupyter-widgets/base",
      "model_module_version": "2.0.0",
      "model_name": "LayoutModel",
      "state": {}
     },
     "e65ca397c6f740c3a3245d843ff2559f": {
      "model_module": "@jupyter-widgets/base",
      "model_module_version": "2.0.0",
      "model_name": "LayoutModel",
      "state": {}
     },
     "f14daf7d43224a2aba76832ad7a9437e": {
      "model_module": "@jupyter-widgets/base",
      "model_module_version": "2.0.0",
      "model_name": "LayoutModel",
      "state": {}
     },
     "f1fe07e23d834a94959477130195b467": {
      "model_module": "@jupyter-widgets/controls",
      "model_module_version": "2.0.0",
      "model_name": "HTMLModel",
      "state": {
       "layout": "IPY_MODEL_98299c5a038843b1ad2339d7bb54596b",
       "style": "IPY_MODEL_f539755f959c4e6488e8ef3b552fc632",
       "value": "YEARS: 100%"
      }
     },
     "f539755f959c4e6488e8ef3b552fc632": {
      "model_module": "@jupyter-widgets/controls",
      "model_module_version": "2.0.0",
      "model_name": "HTMLStyleModel",
      "state": {
       "description_width": "",
       "font_size": null,
       "text_color": null
      }
     },
     "fe0513f4e4f64a18a249270866c1d980": {
      "model_module": "@jupyter-widgets/controls",
      "model_module_version": "2.0.0",
      "model_name": "HBoxModel",
      "state": {
       "children": [
        "IPY_MODEL_63d0edec7e5e4b2685c968f213e77fc4",
        "IPY_MODEL_42512a456763428bafb34c81c00f9f6f",
        "IPY_MODEL_001ae48687dc4f97907f59fdf00f325a"
       ],
       "layout": "IPY_MODEL_e20d0e3278004807ac3ef40a6b3e5579"
      }
     }
    },
    "version_major": 2,
    "version_minor": 0
   }
  }
 },
 "nbformat": 4,
 "nbformat_minor": 5
}
